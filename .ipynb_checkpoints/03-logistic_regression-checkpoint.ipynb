{
 "cells": [
  {
   "cell_type": "code",
   "execution_count": 1,
   "metadata": {},
   "outputs": [],
   "source": [
    "import torch\n",
    "import torch.nn as nn\n",
    "import torchvision\n",
    "import torchvision.transforms as transforms"
   ]
  },
  {
   "cell_type": "code",
   "execution_count": 2,
   "metadata": {},
   "outputs": [],
   "source": [
    "input_size = 784\n",
    "num_classes = 10\n",
    "num_epochs = 5\n",
    "batch_size = 100\n",
    "learning_rate = 0.001"
   ]
  },
  {
   "cell_type": "code",
   "execution_count": 4,
   "metadata": {},
   "outputs": [
    {
     "name": "stdout",
     "output_type": "stream",
     "text": [
      "Downloading http://yann.lecun.com/exdb/mnist/train-images-idx3-ubyte.gz to .\\MNIST\\raw\\train-images-idx3-ubyte.gz\n"
     ]
    },
    {
     "name": "stderr",
     "output_type": "stream",
     "text": [
      "100.1%"
     ]
    },
    {
     "name": "stdout",
     "output_type": "stream",
     "text": [
      "Extracting .\\MNIST\\raw\\train-images-idx3-ubyte.gz to .\\MNIST\\raw\n",
      "Downloading http://yann.lecun.com/exdb/mnist/train-labels-idx1-ubyte.gz to .\\MNIST\\raw\\train-labels-idx1-ubyte.gz\n"
     ]
    },
    {
     "name": "stderr",
     "output_type": "stream",
     "text": [
      "113.5%"
     ]
    },
    {
     "name": "stdout",
     "output_type": "stream",
     "text": [
      "Extracting .\\MNIST\\raw\\train-labels-idx1-ubyte.gz to .\\MNIST\\raw\n",
      "Downloading http://yann.lecun.com/exdb/mnist/t10k-images-idx3-ubyte.gz to .\\MNIST\\raw\\t10k-images-idx3-ubyte.gz\n"
     ]
    },
    {
     "name": "stderr",
     "output_type": "stream",
     "text": [
      "100.4%"
     ]
    },
    {
     "name": "stdout",
     "output_type": "stream",
     "text": [
      "Extracting .\\MNIST\\raw\\t10k-images-idx3-ubyte.gz to .\\MNIST\\raw\n",
      "Downloading http://yann.lecun.com/exdb/mnist/t10k-labels-idx1-ubyte.gz to .\\MNIST\\raw\\t10k-labels-idx1-ubyte.gz\n"
     ]
    },
    {
     "name": "stderr",
     "output_type": "stream",
     "text": [
      "180.4%"
     ]
    },
    {
     "name": "stdout",
     "output_type": "stream",
     "text": [
      "Extracting .\\MNIST\\raw\\t10k-labels-idx1-ubyte.gz to .\\MNIST\\raw\n",
      "Processing...\n",
      "Done!\n"
     ]
    }
   ],
   "source": [
    "train_dataset = torchvision.datasets.MNIST(root='.',train=True,transform=transforms.ToTensor(),download=True)"
   ]
  },
  {
   "cell_type": "code",
   "execution_count": 5,
   "metadata": {},
   "outputs": [],
   "source": [
    "test_dataset = torchvision.datasets.MNIST(root='.',train=False,transform=transforms.ToTensor())"
   ]
  },
  {
   "cell_type": "code",
   "execution_count": 6,
   "metadata": {},
   "outputs": [],
   "source": [
    "train_loader = torch.utils.data.DataLoader(dataset=train_dataset,\n",
    "                                          batch_size=batch_size,\n",
    "                                          shuffle=True)\n",
    "test_loader = torch.utils.data.DataLoader(dataset=test_dataset,\n",
    "                                         batch_size=batch_size,\n",
    "                                         shuffle=False)"
   ]
  },
  {
   "cell_type": "code",
   "execution_count": 7,
   "metadata": {},
   "outputs": [],
   "source": [
    "model = nn.Linear(input_size, num_classes)"
   ]
  },
  {
   "cell_type": "code",
   "execution_count": 8,
   "metadata": {},
   "outputs": [],
   "source": [
    "criterion = nn.CrossEntropyLoss()\n",
    "optimizer = torch.optim.SGD(model.parameters(), lr=learning_rate)"
   ]
  },
  {
   "cell_type": "code",
   "execution_count": 14,
   "metadata": {},
   "outputs": [
    {
     "name": "stdout",
     "output_type": "stream",
     "text": [
      "Epoch [1/5], Step [100/600], Loss: 1.9013\n",
      "Epoch [1/5], Step [200/600], Loss: 1.8626\n",
      "Epoch [1/5], Step [300/600], Loss: 1.8177\n",
      "Epoch [1/5], Step [400/600], Loss: 1.7141\n",
      "Epoch [1/5], Step [500/600], Loss: 1.6133\n",
      "Epoch [1/5], Step [600/600], Loss: 1.5544\n",
      "Epoch [2/5], Step [100/600], Loss: 1.5523\n",
      "Epoch [2/5], Step [200/600], Loss: 1.4654\n",
      "Epoch [2/5], Step [300/600], Loss: 1.4562\n",
      "Epoch [2/5], Step [400/600], Loss: 1.3484\n",
      "Epoch [2/5], Step [500/600], Loss: 1.3187\n",
      "Epoch [2/5], Step [600/600], Loss: 1.3076\n",
      "Epoch [3/5], Step [100/600], Loss: 1.2449\n",
      "Epoch [3/5], Step [200/600], Loss: 1.2129\n",
      "Epoch [3/5], Step [300/600], Loss: 1.3468\n",
      "Epoch [3/5], Step [400/600], Loss: 1.1469\n",
      "Epoch [3/5], Step [500/600], Loss: 1.2100\n",
      "Epoch [3/5], Step [600/600], Loss: 1.1665\n",
      "Epoch [4/5], Step [100/600], Loss: 1.1185\n",
      "Epoch [4/5], Step [200/600], Loss: 1.0584\n",
      "Epoch [4/5], Step [300/600], Loss: 1.0829\n",
      "Epoch [4/5], Step [400/600], Loss: 1.0119\n",
      "Epoch [4/5], Step [500/600], Loss: 1.0855\n",
      "Epoch [4/5], Step [600/600], Loss: 0.9430\n",
      "Epoch [5/5], Step [100/600], Loss: 1.1213\n",
      "Epoch [5/5], Step [200/600], Loss: 1.0543\n",
      "Epoch [5/5], Step [300/600], Loss: 1.0704\n",
      "Epoch [5/5], Step [400/600], Loss: 0.9944\n",
      "Epoch [5/5], Step [500/600], Loss: 0.9297\n",
      "Epoch [5/5], Step [600/600], Loss: 0.9158\n"
     ]
    }
   ],
   "source": [
    "total_step = len(train_loader)\n",
    "for epoch in range(num_epochs):\n",
    "    for i, (images, labels) in enumerate(train_loader):\n",
    "        images = images.reshape(-1,28*28)\n",
    "        \n",
    "        outputs = model(images)\n",
    "        loss = criterion(outputs, labels)\n",
    "        \n",
    "        optimizer.zero_grad()\n",
    "        loss.backward()\n",
    "        optimizer.step()\n",
    "        \n",
    "        if (i+1) % 100 == 0:\n",
    "            print('Epoch [{}/{}], Step [{}/{}], Loss: {:.4f}'.format(epoch+1, num_epochs, i+1, total_step, loss.item()))"
   ]
  },
  {
   "cell_type": "code",
   "execution_count": 15,
   "metadata": {
    "scrolled": true
   },
   "outputs": [
    {
     "name": "stdout",
     "output_type": "stream",
     "text": [
      "Accuracy of the model on the 10000 test images:79 %\n",
      "Accuracy of the model on the 10000 test images:84 %\n",
      "Accuracy of the model on the 10000 test images:83 %\n",
      "Accuracy of the model on the 10000 test images:81 %\n",
      "Accuracy of the model on the 10000 test images:81 %\n",
      "Accuracy of the model on the 10000 test images:79 %\n",
      "Accuracy of the model on the 10000 test images:79 %\n",
      "Accuracy of the model on the 10000 test images:79 %\n",
      "Accuracy of the model on the 10000 test images:80 %\n",
      "Accuracy of the model on the 10000 test images:80 %\n",
      "Accuracy of the model on the 10000 test images:80 %\n",
      "Accuracy of the model on the 10000 test images:80 %\n",
      "Accuracy of the model on the 10000 test images:79 %\n",
      "Accuracy of the model on the 10000 test images:79 %\n",
      "Accuracy of the model on the 10000 test images:79 %\n",
      "Accuracy of the model on the 10000 test images:79 %\n",
      "Accuracy of the model on the 10000 test images:79 %\n",
      "Accuracy of the model on the 10000 test images:79 %\n",
      "Accuracy of the model on the 10000 test images:79 %\n",
      "Accuracy of the model on the 10000 test images:79 %\n",
      "Accuracy of the model on the 10000 test images:79 %\n",
      "Accuracy of the model on the 10000 test images:78 %\n",
      "Accuracy of the model on the 10000 test images:79 %\n",
      "Accuracy of the model on the 10000 test images:79 %\n",
      "Accuracy of the model on the 10000 test images:79 %\n",
      "Accuracy of the model on the 10000 test images:79 %\n",
      "Accuracy of the model on the 10000 test images:79 %\n",
      "Accuracy of the model on the 10000 test images:79 %\n",
      "Accuracy of the model on the 10000 test images:79 %\n",
      "Accuracy of the model on the 10000 test images:79 %\n",
      "Accuracy of the model on the 10000 test images:80 %\n",
      "Accuracy of the model on the 10000 test images:79 %\n",
      "Accuracy of the model on the 10000 test images:79 %\n",
      "Accuracy of the model on the 10000 test images:79 %\n",
      "Accuracy of the model on the 10000 test images:79 %\n",
      "Accuracy of the model on the 10000 test images:79 %\n",
      "Accuracy of the model on the 10000 test images:79 %\n",
      "Accuracy of the model on the 10000 test images:79 %\n",
      "Accuracy of the model on the 10000 test images:79 %\n",
      "Accuracy of the model on the 10000 test images:79 %\n",
      "Accuracy of the model on the 10000 test images:79 %\n",
      "Accuracy of the model on the 10000 test images:79 %\n",
      "Accuracy of the model on the 10000 test images:79 %\n",
      "Accuracy of the model on the 10000 test images:79 %\n",
      "Accuracy of the model on the 10000 test images:79 %\n",
      "Accuracy of the model on the 10000 test images:79 %\n",
      "Accuracy of the model on the 10000 test images:79 %\n",
      "Accuracy of the model on the 10000 test images:79 %\n",
      "Accuracy of the model on the 10000 test images:79 %\n",
      "Accuracy of the model on the 10000 test images:79 %\n",
      "Accuracy of the model on the 10000 test images:79 %\n",
      "Accuracy of the model on the 10000 test images:79 %\n",
      "Accuracy of the model on the 10000 test images:80 %\n",
      "Accuracy of the model on the 10000 test images:80 %\n",
      "Accuracy of the model on the 10000 test images:80 %\n",
      "Accuracy of the model on the 10000 test images:80 %\n",
      "Accuracy of the model on the 10000 test images:80 %\n",
      "Accuracy of the model on the 10000 test images:80 %\n",
      "Accuracy of the model on the 10000 test images:80 %\n",
      "Accuracy of the model on the 10000 test images:80 %\n",
      "Accuracy of the model on the 10000 test images:80 %\n",
      "Accuracy of the model on the 10000 test images:80 %\n",
      "Accuracy of the model on the 10000 test images:81 %\n",
      "Accuracy of the model on the 10000 test images:81 %\n",
      "Accuracy of the model on the 10000 test images:81 %\n",
      "Accuracy of the model on the 10000 test images:81 %\n",
      "Accuracy of the model on the 10000 test images:81 %\n",
      "Accuracy of the model on the 10000 test images:81 %\n",
      "Accuracy of the model on the 10000 test images:81 %\n",
      "Accuracy of the model on the 10000 test images:81 %\n",
      "Accuracy of the model on the 10000 test images:81 %\n",
      "Accuracy of the model on the 10000 test images:81 %\n",
      "Accuracy of the model on the 10000 test images:82 %\n",
      "Accuracy of the model on the 10000 test images:82 %\n",
      "Accuracy of the model on the 10000 test images:82 %\n",
      "Accuracy of the model on the 10000 test images:82 %\n",
      "Accuracy of the model on the 10000 test images:82 %\n",
      "Accuracy of the model on the 10000 test images:82 %\n",
      "Accuracy of the model on the 10000 test images:82 %\n",
      "Accuracy of the model on the 10000 test images:82 %\n",
      "Accuracy of the model on the 10000 test images:82 %\n",
      "Accuracy of the model on the 10000 test images:82 %\n",
      "Accuracy of the model on the 10000 test images:82 %\n",
      "Accuracy of the model on the 10000 test images:82 %\n",
      "Accuracy of the model on the 10000 test images:82 %\n",
      "Accuracy of the model on the 10000 test images:82 %\n",
      "Accuracy of the model on the 10000 test images:82 %\n",
      "Accuracy of the model on the 10000 test images:83 %\n",
      "Accuracy of the model on the 10000 test images:83 %\n",
      "Accuracy of the model on the 10000 test images:83 %\n",
      "Accuracy of the model on the 10000 test images:83 %\n",
      "Accuracy of the model on the 10000 test images:83 %\n",
      "Accuracy of the model on the 10000 test images:83 %\n",
      "Accuracy of the model on the 10000 test images:83 %\n",
      "Accuracy of the model on the 10000 test images:83 %\n",
      "Accuracy of the model on the 10000 test images:83 %\n",
      "Accuracy of the model on the 10000 test images:83 %\n",
      "Accuracy of the model on the 10000 test images:83 %\n",
      "Accuracy of the model on the 10000 test images:83 %\n",
      "Accuracy of the model on the 10000 test images:83 %\n"
     ]
    }
   ],
   "source": [
    "with torch.no_grad():\n",
    "    correct = 0\n",
    "    total = 0\n",
    "    for images, labels in test_loader:\n",
    "        images = images.reshape(-1, 28*28)\n",
    "        outputs = model(images)\n",
    "        _, predicted = torch.max(outputs.data, 1)\n",
    "        total += labels.size(0)\n",
    "        correct += (predicted == labels).sum()\n",
    "        \n",
    "        print('Accuracy of the model on the 10000 test images:{} %'.format(100 * correct/total))"
   ]
  },
  {
   "cell_type": "code",
   "execution_count": 16,
   "metadata": {},
   "outputs": [],
   "source": [
    "torch.save(model.state_dict(), 'model.ckpt')"
   ]
  },
  {
   "cell_type": "code",
   "execution_count": 17,
   "metadata": {},
   "outputs": [
    {
     "data": {
      "text/plain": [
       "<All keys matched successfully>"
      ]
     },
     "execution_count": 17,
     "metadata": {},
     "output_type": "execute_result"
    }
   ],
   "source": [
    "model.load_state_dict(torch.load('model.ckpt'))"
   ]
  },
  {
   "cell_type": "code",
   "execution_count": null,
   "metadata": {},
   "outputs": [],
   "source": []
  }
 ],
 "metadata": {
  "kernelspec": {
   "display_name": "Python 3",
   "language": "python",
   "name": "python3"
  },
  "language_info": {
   "codemirror_mode": {
    "name": "ipython",
    "version": 3
   },
   "file_extension": ".py",
   "mimetype": "text/x-python",
   "name": "python",
   "nbconvert_exporter": "python",
   "pygments_lexer": "ipython3",
   "version": "3.6.8"
  },
  "toc": {
   "base_numbering": 1,
   "nav_menu": {},
   "number_sections": true,
   "sideBar": true,
   "skip_h1_title": false,
   "title_cell": "Table of Contents",
   "title_sidebar": "Contents",
   "toc_cell": false,
   "toc_position": {},
   "toc_section_display": true,
   "toc_window_display": false
  }
 },
 "nbformat": 4,
 "nbformat_minor": 2
}
